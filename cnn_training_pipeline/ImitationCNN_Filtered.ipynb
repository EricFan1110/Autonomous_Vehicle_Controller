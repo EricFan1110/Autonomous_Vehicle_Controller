{
  "nbformat": 4,
  "nbformat_minor": 0,
  "metadata": {
    "colab": {
      "provenance": []
    },
    "kernelspec": {
      "name": "python3",
      "display_name": "Python 3"
    },
    "accelerator": "GPU",
    "gpuClass": "standard"
  },
  "cells": [
    {
      "cell_type": "code",
      "metadata": {
        "id": "i6RTCDKv1uUN"
      },
      "source": [
        "import string\n",
        "import random\n",
        "from random import randint\n",
        "import cv2\n",
        "import numpy as np\n",
        "import os\n",
        "from PIL import Image, ImageFont, ImageDraw\n",
        "import re\n",
        "import math\n",
        "from matplotlib import pyplot as plt"
      ],
      "execution_count": null,
      "outputs": []
    },
    {
      "cell_type": "code",
      "source": [
        "from google.colab import drive\n",
        "drive.mount('/content/drive')"
      ],
      "metadata": {
        "colab": {
          "base_uri": "https://localhost:8080/"
        },
        "id": "JtSvtVwPiZ-z",
        "outputId": "064d9b02-607b-4d0b-973c-17e2af6d9210"
      },
      "execution_count": null,
      "outputs": [
        {
          "output_type": "stream",
          "name": "stdout",
          "text": [
            "Drive already mounted at /content/drive; to attempt to forcibly remount, call drive.mount(\"/content/drive\", force_remount=True).\n"
          ]
        }
      ]
    },
    {
      "cell_type": "code",
      "source": [
        "root_path = \"/content/drive/MyDrive/Competition/\""
      ],
      "metadata": {
        "id": "2lI4PvmZjC21"
      },
      "execution_count": null,
      "outputs": []
    },
    {
      "cell_type": "code",
      "source": [
        "# Imports\n",
        "from tensorflow.keras import layers\n",
        "from tensorflow.keras import models\n",
        "from tensorflow.keras import optimizers\n",
        "\n",
        "from tensorflow.keras.utils import plot_model\n",
        "from tensorflow.keras import backend\n",
        "import tensorflow.image as tfimg"
      ],
      "metadata": {
        "id": "NQOiJ8QdGpam"
      },
      "execution_count": null,
      "outputs": []
    },
    {
      "cell_type": "code",
      "source": [
        "ORIG_IMG_SIZE = (720,1280,3)\n",
        "Y_CROP = 300\n",
        "IMG_SIZE = (ORIG_IMG_SIZE[0] - Y_CROP, ORIG_IMG_SIZE[1],ORIG_IMG_SIZE[2])"
      ],
      "metadata": {
        "id": "MK4qRyV7uSIj"
      },
      "execution_count": null,
      "outputs": []
    },
    {
      "cell_type": "code",
      "source": [
        "folders = [\"IMG12\", \"IMG15\", \"IMG16\", \"IMG19\", \"IMG23\", \"IMG24\", \"IMG25\", \"IMG26\"]\n",
        "\n",
        "paths = []\n",
        "for folder in folders:\n",
        "  paths.append(root_path + folder + \"/\")"
      ],
      "metadata": {
        "id": "J9rosPuGQfaH"
      },
      "execution_count": null,
      "outputs": []
    },
    {
      "cell_type": "code",
      "source": [
        "#create ordered lists of images and states for each run\n",
        "\n",
        "imgLists = []\n",
        "stateLists = []\n",
        "\n",
        "for i in range(len(paths)):\n",
        "  imgLists.append(np.load(paths[i] + \"imgList.npy\"))\n",
        "  for j in range(imgLists[i].size):\n",
        "    imgLists[i][j] = \"Image\" + imgLists[i][j].partition(\"Image\")[2]\n",
        "\n",
        "  stateLists.append(np.load(paths[i] + \"stateList.npy\"))\n"
      ],
      "metadata": {
        "id": "OPvRCt12e6YA"
      },
      "execution_count": null,
      "outputs": []
    },
    {
      "cell_type": "code",
      "source": [
        "#put the image state tuples in lists \n",
        "\n",
        "dataLists = []\n",
        "\n",
        "for i in range(len(paths)):\n",
        "  dataLists.append([])\n",
        "  for j in range(imgLists[i].size):\n",
        "    dataLists[i].append((imgLists[i][j], stateLists[i][j]))"
      ],
      "metadata": {
        "id": "AFHeuKXNiygn"
      },
      "execution_count": null,
      "outputs": []
    },
    {
      "cell_type": "code",
      "source": [
        "#shuffle the tuples in each run \n",
        "\n",
        "for list in dataLists:\n",
        "  np.random.shuffle(list)"
      ],
      "metadata": {
        "id": "rIvW4rY_UN_O"
      },
      "execution_count": null,
      "outputs": []
    },
    {
      "cell_type": "code",
      "source": [
        "#normalize the data lists to have a set number of each state \n",
        "\n",
        "normalizedDataLists = []\n",
        "numPerClass = 30\n",
        "\n",
        "for i in range(len(paths)):\n",
        "  normalizedDataLists.append([])\n",
        "  stopCount = 0\n",
        "  leftCount = 0\n",
        "  straightCount = 0\n",
        "  rightCount = 0\n",
        "\n",
        "  for j in range(len(dataLists[i])):\n",
        "    if np.array_equal(dataLists[i][j][1],np.eye(4)[0]) and stopCount < numPerClass:\n",
        "      stopCount +=1\n",
        "      normalizedDataLists[i].append(dataLists[i][j])\n",
        "    if np.array_equal(dataLists[i][j][1],np.eye(4)[1]) and leftCount < numPerClass:\n",
        "      leftCount +=1\n",
        "      normalizedDataLists[i].append(dataLists[i][j])\n",
        "    if np.array_equal(dataLists[i][j][1],np.eye(4)[2]) and straightCount < numPerClass:\n",
        "      straightCount +=1\n",
        "      normalizedDataLists[i].append(dataLists[i][j])\n",
        "    if np.array_equal(dataLists[i][j][1],np.eye(4)[3]) and rightCount < numPerClass:\n",
        "      rightCount +=1\n",
        "      normalizedDataLists[i].append(dataLists[i][j])\n",
        "  print(rightCount)\n",
        "  print(len(normalizedDataLists[i]))"
      ],
      "metadata": {
        "colab": {
          "base_uri": "https://localhost:8080/"
        },
        "id": "jheRFaK6UkSj",
        "outputId": "228e6364-6f56-43a0-babf-b1e2b6109dcd"
      },
      "execution_count": null,
      "outputs": [
        {
          "output_type": "stream",
          "name": "stdout",
          "text": [
            "30\n",
            "120\n",
            "27\n",
            "117\n",
            "30\n",
            "120\n",
            "30\n",
            "120\n",
            "30\n",
            "120\n",
            "30\n",
            "120\n",
            "30\n",
            "120\n",
            "30\n",
            "120\n"
          ]
        }
      ]
    },
    {
      "cell_type": "code",
      "source": [
        "\n",
        "training_set = []\n",
        "\n",
        "\n",
        "for i in range(len(paths)):\n",
        "  for j in range(len(normalizedDataLists[i])):\n",
        "    #crop the first 300 rows (y values) out\n",
        "    # Normalize X (images) dataset (need typecast because otherwise converting the ints to float64s would take up too much memory)\n",
        "    img = cv2.imread(paths[i] + normalizedDataLists[i][j][0], cv2.IMREAD_UNCHANGED)[Y_CROP:]\n",
        "    \n",
        "    scale_percent = 50 # percent of original size\n",
        "    width = int(img.shape[1] * scale_percent / 100)\n",
        "    height = int(img.shape[0] * scale_percent / 100)\n",
        "    dim = (width, height)\n",
        "      \n",
        "    # resize image\n",
        "    img = cv2.resize(img, dim, interpolation = cv2.INTER_AREA).astype(np.float32)/255\n",
        "\n",
        "    training_set.append((img, normalizedDataLists[i][j][1]))\n",
        "\n"
      ],
      "metadata": {
        "id": "IQ7T0zrTpfJe"
      },
      "execution_count": null,
      "outputs": []
    },
    {
      "cell_type": "code",
      "source": [
        "np.random.shuffle(training_set)\n",
        "\n",
        "inputSet = np.array([data[0] for data in training_set])\n",
        "outputSet = np.array([data[1] for data in training_set])\n",
        "\n",
        "\n",
        "\n"
      ],
      "metadata": {
        "id": "50D85SB1s_nO"
      },
      "execution_count": null,
      "outputs": []
    },
    {
      "cell_type": "code",
      "source": [
        "stop = 0\n",
        "left = 0\n",
        "straight = 0\n",
        "right = 0\n",
        "\n",
        "for arr in outputSet:\n",
        "  if np.array_equal(arr,np.eye(4)[0]):\n",
        "    stop +=1\n",
        "  if np.array_equal(arr,np.eye(4)[1]):\n",
        "    left +=1\n",
        "  if np.array_equal(arr,np.eye(4)[2]):\n",
        "    straight +=1\n",
        "  if np.array_equal(arr,np.eye(4)[3]):\n",
        "    right +=1\n",
        "\n",
        "print(stop)\n",
        "print(left)\n",
        "print(straight)\n",
        "print(right)"
      ],
      "metadata": {
        "id": "yxG4eW1pr3Mf",
        "colab": {
          "base_uri": "https://localhost:8080/"
        },
        "outputId": "e551ae8c-6236-4b48-b187-faa9e6cb196c"
      },
      "execution_count": null,
      "outputs": [
        {
          "output_type": "stream",
          "name": "stdout",
          "text": [
            "240\n",
            "240\n",
            "240\n",
            "237\n"
          ]
        }
      ]
    },
    {
      "cell_type": "markdown",
      "source": [
        "### Create neural network"
      ],
      "metadata": {
        "id": "zVn2kG1Uw7cm"
      }
    },
    {
      "cell_type": "code",
      "source": [
        "conv_model = models.Sequential()\n",
        "conv_model.add(layers.Conv2D(32, (3, 3), activation='relu',\n",
        "                             input_shape=(height,width,3)))\n",
        "conv_model.add(layers.MaxPooling2D((2, 2)))\n",
        "conv_model.add(layers.Conv2D(64, (3, 3), activation='relu'))\n",
        "conv_model.add(layers.MaxPooling2D((2, 2)))\n",
        "conv_model.add(layers.Conv2D(128, (2, 2), activation='relu'))\n",
        "conv_model.add(layers.MaxPooling2D((2, 2)))\n",
        "conv_model.add(layers.Conv2D(128, (3, 3), activation='relu'))\n",
        "conv_model.add(layers.MaxPooling2D((2, 2)))\n",
        "conv_model.add(layers.Flatten())\n",
        "conv_model.add(layers.Dropout(0.5))\n",
        "conv_model.add(layers.Dense(512, activation='relu'))\n",
        "conv_model.add(layers.Dense(4, activation='softmax'))\n",
        "\n",
        "conv_model.summary()\n",
        "\n"
      ],
      "metadata": {
        "id": "aMg4L5fBxJP3",
        "colab": {
          "base_uri": "https://localhost:8080/"
        },
        "outputId": "3b78b62c-1f7d-4206-f0cf-f412ae7b5dcd"
      },
      "execution_count": null,
      "outputs": [
        {
          "output_type": "stream",
          "name": "stdout",
          "text": [
            "Model: \"sequential_1\"\n",
            "_________________________________________________________________\n",
            " Layer (type)                Output Shape              Param #   \n",
            "=================================================================\n",
            " conv2d_2 (Conv2D)           (None, 208, 638, 32)      896       \n",
            "                                                                 \n",
            " max_pooling2d_2 (MaxPooling  (None, 104, 319, 32)     0         \n",
            " 2D)                                                             \n",
            "                                                                 \n",
            " conv2d_3 (Conv2D)           (None, 102, 317, 64)      18496     \n",
            "                                                                 \n",
            " max_pooling2d_3 (MaxPooling  (None, 51, 158, 64)      0         \n",
            " 2D)                                                             \n",
            "                                                                 \n",
            " conv2d_4 (Conv2D)           (None, 50, 157, 128)      32896     \n",
            "                                                                 \n",
            " max_pooling2d_4 (MaxPooling  (None, 25, 78, 128)      0         \n",
            " 2D)                                                             \n",
            "                                                                 \n",
            " conv2d_5 (Conv2D)           (None, 23, 76, 128)       147584    \n",
            "                                                                 \n",
            " max_pooling2d_5 (MaxPooling  (None, 11, 38, 128)      0         \n",
            " 2D)                                                             \n",
            "                                                                 \n",
            " flatten_1 (Flatten)         (None, 53504)             0         \n",
            "                                                                 \n",
            " dropout_1 (Dropout)         (None, 53504)             0         \n",
            "                                                                 \n",
            " dense_2 (Dense)             (None, 512)               27394560  \n",
            "                                                                 \n",
            " dense_3 (Dense)             (None, 4)                 2052      \n",
            "                                                                 \n",
            "=================================================================\n",
            "Total params: 27,596,484\n",
            "Trainable params: 27,596,484\n",
            "Non-trainable params: 0\n",
            "_________________________________________________________________\n"
          ]
        }
      ]
    },
    {
      "cell_type": "code",
      "source": [
        "# #input and ouput shape must match shape of input and expected output shapes\n",
        "# conv_model = models.Sequential()\n",
        "# conv_model.add(layers.Conv2D(32, (3, 3), activation='relu',\n",
        "#                              input_shape=(height,width,3)))\n",
        "# conv_model.add(layers.MaxPooling2D((2, 2)))\n",
        "# conv_model.add(layers.Conv2D(64, (3, 3), activation='relu'))\n",
        "# conv_model.add(layers.MaxPooling2D((2, 2)))\n",
        "# conv_model.add(layers.Flatten())\n",
        "# conv_model.add(layers.Dropout(0.5))\n",
        "# conv_model.add(layers.Dense(512, activation='relu'))\n",
        "# #softmax normalizes the output to a probability distribution over predicted output classes\n",
        "# conv_model.add(layers.Dense(4, activation='softmax'))\n",
        "# conv_model.summary()"
      ],
      "metadata": {
        "id": "CYIH1T6mBRZG"
      },
      "execution_count": null,
      "outputs": []
    },
    {
      "cell_type": "code",
      "source": [
        "LEARNING_RATE = 1e-4\n",
        "conv_model.compile(loss='categorical_crossentropy',\n",
        "                   optimizer=optimizers.RMSprop(lr=LEARNING_RATE),\n",
        "                   metrics=['acc'])"
      ],
      "metadata": {
        "id": "8iQN_wYOygUv"
      },
      "execution_count": null,
      "outputs": []
    },
    {
      "cell_type": "code",
      "source": [
        "history_conv = conv_model.fit(inputSet, outputSet, \n",
        "                              validation_split=0.2, \n",
        "                              epochs=80, \n",
        "                              batch_size=32)\n"
      ],
      "metadata": {
        "id": "-bg8QJiizYRa",
        "colab": {
          "base_uri": "https://localhost:8080/"
        },
        "outputId": "a54bc603-cc79-4b38-a054-c96bf508f2d4"
      },
      "execution_count": null,
      "outputs": [
        {
          "output_type": "stream",
          "name": "stdout",
          "text": [
            "Epoch 1/80\n",
            "24/24 [==============================] - 8s 245ms/step - loss: 1.0216 - acc: 0.5556 - val_loss: 0.7356 - val_acc: 0.7500\n",
            "Epoch 2/80\n",
            "24/24 [==============================] - 5s 200ms/step - loss: 0.7112 - acc: 0.7020 - val_loss: 0.6812 - val_acc: 0.7552\n",
            "Epoch 3/80\n",
            "24/24 [==============================] - 5s 192ms/step - loss: 0.6596 - acc: 0.7216 - val_loss: 0.6654 - val_acc: 0.7604\n",
            "Epoch 4/80\n",
            "24/24 [==============================] - 5s 201ms/step - loss: 0.6246 - acc: 0.7438 - val_loss: 0.6539 - val_acc: 0.7240\n",
            "Epoch 5/80\n",
            "24/24 [==============================] - 5s 191ms/step - loss: 0.5769 - acc: 0.7765 - val_loss: 0.6572 - val_acc: 0.7396\n",
            "Epoch 6/80\n",
            "24/24 [==============================] - 5s 203ms/step - loss: 0.5576 - acc: 0.7922 - val_loss: 0.6295 - val_acc: 0.7812\n",
            "Epoch 7/80\n",
            "24/24 [==============================] - 5s 198ms/step - loss: 0.5391 - acc: 0.7830 - val_loss: 0.6361 - val_acc: 0.7604\n",
            "Epoch 8/80\n",
            "24/24 [==============================] - 5s 198ms/step - loss: 0.4982 - acc: 0.8092 - val_loss: 0.7756 - val_acc: 0.6510\n",
            "Epoch 9/80\n",
            "24/24 [==============================] - 5s 197ms/step - loss: 0.4790 - acc: 0.8013 - val_loss: 0.6199 - val_acc: 0.7448\n",
            "Epoch 10/80\n",
            "24/24 [==============================] - 5s 189ms/step - loss: 0.4530 - acc: 0.8052 - val_loss: 0.6130 - val_acc: 0.7552\n",
            "Epoch 11/80\n",
            "24/24 [==============================] - 5s 197ms/step - loss: 0.4074 - acc: 0.8288 - val_loss: 0.6166 - val_acc: 0.7656\n",
            "Epoch 12/80\n",
            "24/24 [==============================] - 4s 188ms/step - loss: 0.3784 - acc: 0.8458 - val_loss: 0.6386 - val_acc: 0.7760\n",
            "Epoch 13/80\n",
            "24/24 [==============================] - 4s 188ms/step - loss: 0.3738 - acc: 0.8444 - val_loss: 0.6162 - val_acc: 0.7708\n",
            "Epoch 14/80\n",
            "24/24 [==============================] - 5s 196ms/step - loss: 0.3429 - acc: 0.8667 - val_loss: 0.6420 - val_acc: 0.7656\n",
            "Epoch 15/80\n",
            "24/24 [==============================] - 4s 188ms/step - loss: 0.3027 - acc: 0.8810 - val_loss: 0.6932 - val_acc: 0.7240\n",
            "Epoch 16/80\n",
            "24/24 [==============================] - 5s 198ms/step - loss: 0.3020 - acc: 0.8732 - val_loss: 0.7889 - val_acc: 0.7708\n",
            "Epoch 17/80\n",
            "24/24 [==============================] - 5s 188ms/step - loss: 0.2899 - acc: 0.8928 - val_loss: 0.6516 - val_acc: 0.7500\n",
            "Epoch 18/80\n",
            "24/24 [==============================] - 5s 190ms/step - loss: 0.2511 - acc: 0.9072 - val_loss: 0.6585 - val_acc: 0.7396\n",
            "Epoch 19/80\n",
            "24/24 [==============================] - 5s 189ms/step - loss: 0.2051 - acc: 0.9294 - val_loss: 0.8144 - val_acc: 0.7396\n",
            "Epoch 20/80\n",
            "24/24 [==============================] - 5s 198ms/step - loss: 0.2148 - acc: 0.9176 - val_loss: 0.7223 - val_acc: 0.7708\n",
            "Epoch 21/80\n",
            "24/24 [==============================] - 5s 198ms/step - loss: 0.1742 - acc: 0.9373 - val_loss: 0.8285 - val_acc: 0.7656\n",
            "Epoch 22/80\n",
            "24/24 [==============================] - 5s 190ms/step - loss: 0.1773 - acc: 0.9373 - val_loss: 0.8491 - val_acc: 0.7708\n",
            "Epoch 23/80\n",
            "24/24 [==============================] - 5s 199ms/step - loss: 0.1521 - acc: 0.9490 - val_loss: 1.0206 - val_acc: 0.7656\n",
            "Epoch 24/80\n",
            "24/24 [==============================] - 5s 198ms/step - loss: 0.1364 - acc: 0.9451 - val_loss: 0.8924 - val_acc: 0.7552\n",
            "Epoch 25/80\n",
            "24/24 [==============================] - 5s 190ms/step - loss: 0.1129 - acc: 0.9621 - val_loss: 1.1284 - val_acc: 0.7656\n",
            "Epoch 26/80\n",
            "24/24 [==============================] - 5s 199ms/step - loss: 0.1202 - acc: 0.9634 - val_loss: 0.9670 - val_acc: 0.7344\n",
            "Epoch 27/80\n",
            "24/24 [==============================] - 5s 189ms/step - loss: 0.1116 - acc: 0.9621 - val_loss: 1.1479 - val_acc: 0.7448\n",
            "Epoch 28/80\n",
            "24/24 [==============================] - 5s 190ms/step - loss: 0.0859 - acc: 0.9739 - val_loss: 1.3863 - val_acc: 0.7552\n",
            "Epoch 29/80\n",
            "24/24 [==============================] - 5s 199ms/step - loss: 0.0859 - acc: 0.9712 - val_loss: 1.0726 - val_acc: 0.7552\n",
            "Epoch 30/80\n",
            "24/24 [==============================] - 5s 189ms/step - loss: 0.0899 - acc: 0.9686 - val_loss: 1.1310 - val_acc: 0.7656\n",
            "Epoch 31/80\n",
            "24/24 [==============================] - 5s 189ms/step - loss: 0.0807 - acc: 0.9739 - val_loss: 1.0631 - val_acc: 0.7812\n",
            "Epoch 32/80\n",
            "24/24 [==============================] - 5s 199ms/step - loss: 0.0513 - acc: 0.9843 - val_loss: 1.2913 - val_acc: 0.7708\n",
            "Epoch 33/80\n",
            "24/24 [==============================] - 5s 190ms/step - loss: 0.0874 - acc: 0.9660 - val_loss: 1.2831 - val_acc: 0.7656\n",
            "Epoch 34/80\n",
            "24/24 [==============================] - 5s 198ms/step - loss: 0.0583 - acc: 0.9791 - val_loss: 1.2666 - val_acc: 0.7552\n",
            "Epoch 35/80\n",
            "24/24 [==============================] - 5s 189ms/step - loss: 0.0534 - acc: 0.9791 - val_loss: 1.1946 - val_acc: 0.7812\n",
            "Epoch 36/80\n",
            "24/24 [==============================] - 5s 199ms/step - loss: 0.0401 - acc: 0.9869 - val_loss: 1.4996 - val_acc: 0.7448\n",
            "Epoch 37/80\n",
            "24/24 [==============================] - 5s 198ms/step - loss: 0.0818 - acc: 0.9712 - val_loss: 1.2593 - val_acc: 0.7448\n",
            "Epoch 38/80\n",
            "24/24 [==============================] - 5s 190ms/step - loss: 0.0314 - acc: 0.9922 - val_loss: 1.3426 - val_acc: 0.7760\n",
            "Epoch 39/80\n",
            "24/24 [==============================] - 5s 199ms/step - loss: 0.0414 - acc: 0.9843 - val_loss: 1.3381 - val_acc: 0.7656\n",
            "Epoch 40/80\n",
            "24/24 [==============================] - 5s 198ms/step - loss: 0.0366 - acc: 0.9882 - val_loss: 1.2664 - val_acc: 0.7604\n",
            "Epoch 41/80\n",
            "24/24 [==============================] - 5s 199ms/step - loss: 0.0323 - acc: 0.9895 - val_loss: 1.3172 - val_acc: 0.7604\n",
            "Epoch 42/80\n",
            "24/24 [==============================] - 5s 199ms/step - loss: 0.0242 - acc: 0.9922 - val_loss: 1.4080 - val_acc: 0.7448\n",
            "Epoch 43/80\n",
            "24/24 [==============================] - 5s 190ms/step - loss: 0.0153 - acc: 0.9961 - val_loss: 1.7786 - val_acc: 0.7656\n",
            "Epoch 44/80\n",
            "24/24 [==============================] - 5s 190ms/step - loss: 0.0179 - acc: 0.9948 - val_loss: 1.7040 - val_acc: 0.7656\n",
            "Epoch 45/80\n",
            "24/24 [==============================] - 5s 200ms/step - loss: 0.0206 - acc: 0.9948 - val_loss: 1.6299 - val_acc: 0.7448\n",
            "Epoch 46/80\n",
            "24/24 [==============================] - 5s 198ms/step - loss: 0.0325 - acc: 0.9908 - val_loss: 1.6630 - val_acc: 0.7656\n",
            "Epoch 47/80\n",
            "24/24 [==============================] - 5s 189ms/step - loss: 0.0243 - acc: 0.9908 - val_loss: 2.2926 - val_acc: 0.7552\n",
            "Epoch 48/80\n",
            "24/24 [==============================] - 5s 198ms/step - loss: 0.0241 - acc: 0.9922 - val_loss: 1.8223 - val_acc: 0.7552\n",
            "Epoch 49/80\n",
            "24/24 [==============================] - 5s 199ms/step - loss: 0.0232 - acc: 0.9922 - val_loss: 1.6564 - val_acc: 0.7552\n",
            "Epoch 50/80\n",
            "24/24 [==============================] - 5s 204ms/step - loss: 0.0110 - acc: 0.9961 - val_loss: 1.8304 - val_acc: 0.7552\n",
            "Epoch 51/80\n",
            "24/24 [==============================] - 5s 189ms/step - loss: 0.0157 - acc: 0.9948 - val_loss: 1.7850 - val_acc: 0.7500\n",
            "Epoch 52/80\n",
            "24/24 [==============================] - 5s 190ms/step - loss: 0.0239 - acc: 0.9908 - val_loss: 1.7331 - val_acc: 0.7604\n",
            "Epoch 53/80\n",
            "24/24 [==============================] - 5s 199ms/step - loss: 0.0149 - acc: 0.9935 - val_loss: 1.7137 - val_acc: 0.7500\n",
            "Epoch 54/80\n",
            "24/24 [==============================] - 5s 190ms/step - loss: 0.0124 - acc: 0.9974 - val_loss: 1.8980 - val_acc: 0.7604\n",
            "Epoch 55/80\n",
            "24/24 [==============================] - 5s 199ms/step - loss: 0.0041 - acc: 0.9987 - val_loss: 1.9673 - val_acc: 0.7552\n",
            "Epoch 56/80\n",
            "24/24 [==============================] - 5s 199ms/step - loss: 0.0187 - acc: 0.9961 - val_loss: 1.9573 - val_acc: 0.7708\n",
            "Epoch 57/80\n",
            "24/24 [==============================] - 5s 190ms/step - loss: 0.0167 - acc: 0.9948 - val_loss: 1.9924 - val_acc: 0.7396\n",
            "Epoch 58/80\n",
            "24/24 [==============================] - 5s 199ms/step - loss: 0.0083 - acc: 0.9974 - val_loss: 1.9718 - val_acc: 0.7500\n",
            "Epoch 59/80\n",
            "24/24 [==============================] - 5s 199ms/step - loss: 0.0224 - acc: 0.9935 - val_loss: 1.8514 - val_acc: 0.7552\n",
            "Epoch 60/80\n",
            "24/24 [==============================] - 5s 190ms/step - loss: 0.0031 - acc: 1.0000 - val_loss: 2.3565 - val_acc: 0.7656\n",
            "Epoch 61/80\n",
            "24/24 [==============================] - 5s 190ms/step - loss: 0.0083 - acc: 0.9974 - val_loss: 2.1808 - val_acc: 0.7604\n",
            "Epoch 62/80\n",
            "24/24 [==============================] - 5s 198ms/step - loss: 0.0063 - acc: 0.9987 - val_loss: 2.3058 - val_acc: 0.7656\n",
            "Epoch 63/80\n",
            "24/24 [==============================] - 5s 190ms/step - loss: 0.0506 - acc: 0.9869 - val_loss: 1.9849 - val_acc: 0.7656\n",
            "Epoch 64/80\n",
            "24/24 [==============================] - 5s 189ms/step - loss: 0.0019 - acc: 1.0000 - val_loss: 2.0860 - val_acc: 0.7604\n",
            "Epoch 65/80\n",
            "24/24 [==============================] - 5s 191ms/step - loss: 0.0036 - acc: 0.9987 - val_loss: 2.2248 - val_acc: 0.7604\n",
            "Epoch 66/80\n",
            "24/24 [==============================] - 5s 190ms/step - loss: 0.0352 - acc: 0.9908 - val_loss: 1.9518 - val_acc: 0.7448\n",
            "Epoch 67/80\n",
            "24/24 [==============================] - 5s 199ms/step - loss: 0.0040 - acc: 0.9987 - val_loss: 2.0659 - val_acc: 0.7656\n",
            "Epoch 68/80\n",
            "24/24 [==============================] - 5s 190ms/step - loss: 0.0096 - acc: 0.9974 - val_loss: 2.0228 - val_acc: 0.7552\n",
            "Epoch 69/80\n",
            "24/24 [==============================] - 5s 190ms/step - loss: 0.0223 - acc: 0.9948 - val_loss: 1.7999 - val_acc: 0.7448\n",
            "Epoch 70/80\n",
            "24/24 [==============================] - 5s 190ms/step - loss: 0.0051 - acc: 0.9987 - val_loss: 2.0376 - val_acc: 0.7708\n",
            "Epoch 71/80\n",
            "24/24 [==============================] - 5s 190ms/step - loss: 0.0130 - acc: 0.9935 - val_loss: 1.9506 - val_acc: 0.7500\n",
            "Epoch 72/80\n",
            "24/24 [==============================] - 5s 190ms/step - loss: 0.0110 - acc: 0.9987 - val_loss: 2.0417 - val_acc: 0.7552\n",
            "Epoch 73/80\n",
            "24/24 [==============================] - 5s 199ms/step - loss: 0.0041 - acc: 0.9987 - val_loss: 2.2260 - val_acc: 0.7552\n",
            "Epoch 74/80\n",
            "24/24 [==============================] - 5s 190ms/step - loss: 0.0158 - acc: 0.9948 - val_loss: 1.9543 - val_acc: 0.7448\n",
            "Epoch 75/80\n",
            "24/24 [==============================] - 5s 191ms/step - loss: 0.0010 - acc: 1.0000 - val_loss: 2.4071 - val_acc: 0.7604\n",
            "Epoch 76/80\n",
            "24/24 [==============================] - 5s 190ms/step - loss: 0.0230 - acc: 0.9935 - val_loss: 2.0708 - val_acc: 0.7656\n",
            "Epoch 77/80\n",
            "24/24 [==============================] - 5s 199ms/step - loss: 0.0010 - acc: 1.0000 - val_loss: 2.4187 - val_acc: 0.7396\n",
            "Epoch 78/80\n",
            "24/24 [==============================] - 5s 190ms/step - loss: 0.0087 - acc: 0.9987 - val_loss: 2.1528 - val_acc: 0.7656\n",
            "Epoch 79/80\n",
            "24/24 [==============================] - 5s 190ms/step - loss: 0.0017 - acc: 1.0000 - val_loss: 2.3450 - val_acc: 0.7552\n",
            "Epoch 80/80\n",
            "24/24 [==============================] - 5s 198ms/step - loss: 0.0053 - acc: 0.9974 - val_loss: 2.2647 - val_acc: 0.7500\n"
          ]
        }
      ]
    },
    {
      "cell_type": "code",
      "source": [],
      "metadata": {
        "id": "af7jiScc1zDM"
      },
      "execution_count": null,
      "outputs": []
    },
    {
      "cell_type": "code",
      "source": [
        "plt.plot(history_conv.history['loss'])\n",
        "plt.plot(history_conv.history['val_loss'])\n",
        "plt.title('model loss')\n",
        "plt.ylabel('loss')\n",
        "plt.xlabel('epoch')\n",
        "plt.legend(['train loss', 'val loss'], loc='upper left')\n",
        "plt.show()"
      ],
      "metadata": {
        "colab": {
          "base_uri": "https://localhost:8080/",
          "height": 295
        },
        "id": "zmK2aEvkzY4A",
        "outputId": "78543541-7296-45a2-9fc9-afb8b6f168d5"
      },
      "execution_count": null,
      "outputs": [
        {
          "output_type": "display_data",
          "data": {
            "text/plain": [
              "<Figure size 432x288 with 1 Axes>"
            ],
            "image/png": "[encoded data removed]"
          },
          "metadata": {
            "needs_background": "light"
          }
        }
      ]
    },
    {
      "cell_type": "code",
      "source": [
        "plt.plot(history_conv.history['acc'])\n",
        "plt.plot(history_conv.history['val_acc'])\n",
        "plt.title('model accuracy')\n",
        "plt.ylabel('accuracy (%)')\n",
        "plt.xlabel('epoch')\n",
        "plt.legend(['train accuracy', 'val accuracy'], loc='upper left')\n",
        "plt.show()"
      ],
      "metadata": {
        "colab": {
          "base_uri": "https://localhost:8080/",
          "height": 295
        },
        "id": "HVEfvvUb0USG",
        "outputId": "0f4c685c-2055-46d4-d9fc-684f3b4a26bd"
      },
      "execution_count": null,
      "outputs": [
        {
          "output_type": "display_data",
          "data": {
            "text/plain": [
              "<Figure size 432x288 with 1 Axes>"
            ],
            "image/png": "[encoded data removed]"
          },
          "metadata": {
            "needs_background": "light"
          }
        }
      ]
    },
    {
      "cell_type": "code",
      "source": [
        "conv_model.save(root_path + \"NN_8R30_1.h5\")"
      ],
      "metadata": {
        "id": "oLbxxe2W0tqm"
      },
      "execution_count": null,
      "outputs": []
    }
  ]
}