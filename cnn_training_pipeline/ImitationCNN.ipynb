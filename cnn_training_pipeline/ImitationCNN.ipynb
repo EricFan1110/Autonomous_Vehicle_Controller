{
  "cells": [
    {
      "cell_type": "code",
      "execution_count": null,
      "metadata": {
        "id": "i6RTCDKv1uUN"
      },
      "outputs": [],
      "source": [
        "import string\n",
        "import random\n",
        "from random import randint\n",
        "import cv2\n",
        "import numpy as np\n",
        "import os\n",
        "from PIL import Image, ImageFont, ImageDraw\n",
        "import re\n",
        "import math\n",
        "from matplotlib import pyplot as plt"
      ]
    },
    {
      "cell_type": "code",
      "execution_count": null,
      "metadata": {
        "colab": {
          "base_uri": "https://localhost:8080/"
        },
        "id": "JtSvtVwPiZ-z",
        "outputId": "b3e2fa10-70e8-44af-fb52-3e2a67a198fb"
      },
      "outputs": [
        {
          "output_type": "stream",
          "name": "stdout",
          "text": [
            "Mounted at /content/drive\n"
          ]
        }
      ],
      "source": [
        "from google.colab import drive\n",
        "drive.mount('/content/drive')"
      ]
    },
    {
      "cell_type": "code",
      "execution_count": null,
      "metadata": {
        "id": "2lI4PvmZjC21"
      },
      "outputs": [],
      "source": [
        "root_path = \"/content/drive/MyDrive/Competition/\""
      ]
    },
    {
      "cell_type": "code",
      "execution_count": null,
      "metadata": {
        "id": "NQOiJ8QdGpam"
      },
      "outputs": [],
      "source": [
        "# Imports\n",
        "from tensorflow.keras import layers\n",
        "from tensorflow.keras import models\n",
        "from tensorflow.keras import optimizers\n",
        "\n",
        "from tensorflow.keras.utils import plot_model\n",
        "from tensorflow.keras import backend\n",
        "import tensorflow.image as tfimg"
      ]
    },
    {
      "cell_type": "code",
      "execution_count": null,
      "metadata": {
        "id": "MK4qRyV7uSIj"
      },
      "outputs": [],
      "source": [
        "ORIG_IMG_SIZE = (720,1280,3)\n",
        "Y_CROP = 300\n",
        "IMG_SIZE = (ORIG_IMG_SIZE[0] - Y_CROP, ORIG_IMG_SIZE[1],ORIG_IMG_SIZE[2])"
      ]
    },
    {
      "cell_type": "code",
      "execution_count": null,
      "metadata": {
        "id": "J9rosPuGQfaH"
      },
      "outputs": [],
      "source": [
        "folders = [\"IMG12\", \"IMG15\", \"IMG16\", \"IMG19\", \"IMG23\", \"IMG24\", \"IMG25\", \"IMG26\"]\n",
        "\n",
        "paths = []\n",
        "for folder in folders:\n",
        "  paths.append(root_path + folder + \"/\")"
      ]
    },
    {
      "cell_type": "code",
      "execution_count": null,
      "metadata": {
        "id": "OPvRCt12e6YA"
      },
      "outputs": [],
      "source": [
        "#create ordered lists of images and states for each run\n",
        "\n",
        "imgLists = []\n",
        "stateLists = []\n",
        "\n",
        "for i in range(len(paths)):\n",
        "  imgLists.append(np.load(paths[i] + \"imgList.npy\"))\n",
        "  for j in range(imgLists[i].size):\n",
        "    imgLists[i][j] = \"Image\" + imgLists[i][j].partition(\"Image\")[2]\n",
        "\n",
        "  stateLists.append(np.load(paths[i] + \"stateList.npy\"))\n"
      ]
    },
    {
      "cell_type": "code",
      "execution_count": null,
      "metadata": {
        "id": "AFHeuKXNiygn"
      },
      "outputs": [],
      "source": [
        "#put the image state tuples in lists \n",
        "\n",
        "dataLists = []\n",
        "\n",
        "for i in range(len(paths)):\n",
        "  dataLists.append([])\n",
        "  for j in range(imgLists[i].size):\n",
        "    dataLists[i].append((imgLists[i][j], stateLists[i][j]))"
      ]
    },
    {
      "cell_type": "code",
      "execution_count": null,
      "metadata": {
        "id": "rIvW4rY_UN_O"
      },
      "outputs": [],
      "source": [
        "#shuffle the tuples in each run \n",
        "\n",
        "for list in dataLists:\n",
        "  np.random.shuffle(list)"
      ]
    },
    {
      "cell_type": "code",
      "execution_count": null,
      "metadata": {
        "id": "jheRFaK6UkSj"
      },
      "outputs": [],
      "source": [
        "#normalize the data lists to have a set number of each state \n",
        "#NO NORMALIZING\n",
        "\n",
        "normalizedDataLists = dataLists"
      ]
    },
    {
      "cell_type": "code",
      "execution_count": null,
      "metadata": {
        "id": "l4Fezh5u1yCo"
      },
      "outputs": [],
      "source": [
        "# img = cv2.imread(paths[0] + normalizedDataLists[0][1000][0], cv2.IMREAD_UNCHANGED)[Y_CROP:]\n",
        "\n",
        "# scale_percent = 25 # percent of original size\n",
        "# width = int(img.shape[1] * scale_percent / 100)\n",
        "# height = int(img.shape[0] * scale_percent / 100)\n",
        "# dim = (width, height)\n",
        "\n",
        "\n",
        "\n",
        "# # resize image\n",
        "# img = cv2.resize(img, dim, interpolation = cv2.INTER_AREA)\n",
        "\n",
        "# plt.imshow(img)"
      ]
    },
    {
      "cell_type": "code",
      "execution_count": null,
      "metadata": {
        "id": "SP7JIa5R1LzU"
      },
      "outputs": [],
      "source": [
        "# img = cv2.imread(paths[0] + normalizedDataLists[0][1000][0], cv2.IMREAD_UNCHANGED)[Y_CROP:]\n",
        "\n",
        "# scale_percent = 12.5 # percent of original size\n",
        "# width = int(img.shape[1] * scale_percent / 100)\n",
        "# height = int(img.shape[0] * scale_percent / 100)\n",
        "# dim = (width, height)\n",
        "\n",
        "\n",
        "\n",
        "# # resize image\n",
        "# img = cv2.resize(img, dim, interpolation = cv2.INTER_AREA)\n",
        "\n",
        "# plt.imshow(img)"
      ]
    },
    {
      "cell_type": "code",
      "execution_count": null,
      "metadata": {
        "id": "IQ7T0zrTpfJe"
      },
      "outputs": [],
      "source": [
        "\n",
        "training_set = []\n",
        "\n",
        "\n",
        "for i in range(len(paths)):\n",
        "  for j in range(len(normalizedDataLists[i])):\n",
        "\n",
        "    #skip all stop states\n",
        "    if np.array_equal(normalizedDataLists[i][j][1], np.eye(4)[0]):\n",
        "      continue\n",
        "\n",
        "    #crop the first 300 rows (y values) out\n",
        "    # Normalize X (images) dataset (need typecast because otherwise converting the ints to float64s would take up too much memory)\n",
        "    img = cv2.imread(paths[i] + normalizedDataLists[i][j][0], cv2.IMREAD_UNCHANGED)[Y_CROP:]\n",
        "    \n",
        "    scale_percent = 12.5 # percent of original size\n",
        "    width = int(img.shape[1] * scale_percent / 100)\n",
        "    height = int(img.shape[0] * scale_percent / 100)\n",
        "    dim = (width, height)\n",
        "\n",
        "    # resize image\n",
        "    img = cv2.resize(img, dim, interpolation = cv2.INTER_AREA).astype(np.float32)/255\n",
        "\n",
        "\n",
        "    training_set.append((img, normalizedDataLists[i][j][1]))\n",
        "\n"
      ]
    },
    {
      "cell_type": "code",
      "execution_count": null,
      "metadata": {
        "id": "50D85SB1s_nO"
      },
      "outputs": [],
      "source": [
        "np.random.shuffle(training_set)\n",
        "\n",
        "inputSet = np.array([data[0] for data in training_set])\n",
        "outputSet = np.array([data[1] for data in training_set])\n",
        "\n",
        "\n",
        "\n"
      ]
    },
    {
      "cell_type": "code",
      "execution_count": null,
      "metadata": {
        "colab": {
          "base_uri": "https://localhost:8080/"
        },
        "id": "yxG4eW1pr3Mf",
        "outputId": "82a37d79-4601-4db5-fee5-cf97eb6ebf9c"
      },
      "outputs": [
        {
          "output_type": "stream",
          "name": "stdout",
          "text": [
            "0\n",
            "2768\n",
            "7273\n",
            "381\n"
          ]
        }
      ],
      "source": [
        "stop = 0\n",
        "left = 0\n",
        "straight = 0\n",
        "right = 0\n",
        "\n",
        "for arr in outputSet:\n",
        "  if np.array_equal(arr,np.eye(4)[0]):\n",
        "    stop +=1\n",
        "  if np.array_equal(arr,np.eye(4)[1]):\n",
        "    left +=1\n",
        "  if np.array_equal(arr,np.eye(4)[2]):\n",
        "    straight +=1\n",
        "  if np.array_equal(arr,np.eye(4)[3]):\n",
        "    right +=1\n",
        "\n",
        "print(stop)\n",
        "print(left)\n",
        "print(straight)\n",
        "print(right)"
      ]
    },
    {
      "cell_type": "markdown",
      "metadata": {
        "id": "zVn2kG1Uw7cm"
      },
      "source": [
        "### Create neural network"
      ]
    },
    {
      "cell_type": "code",
      "execution_count": null,
      "metadata": {
        "colab": {
          "base_uri": "https://localhost:8080/"
        },
        "id": "aMg4L5fBxJP3",
        "outputId": "e07b9739-ab9f-4d87-e277-2058e8d36338"
      },
      "outputs": [
        {
          "output_type": "stream",
          "name": "stdout",
          "text": [
            "Model: \"sequential\"\n",
            "_________________________________________________________________\n",
            " Layer (type)                Output Shape              Param #   \n",
            "=================================================================\n",
            " conv2d (Conv2D)             (None, 50, 158, 32)       896       \n",
            "                                                                 \n",
            " max_pooling2d (MaxPooling2D  (None, 25, 79, 32)       0         \n",
            " )                                                               \n",
            "                                                                 \n",
            " conv2d_1 (Conv2D)           (None, 23, 77, 64)        18496     \n",
            "                                                                 \n",
            " max_pooling2d_1 (MaxPooling  (None, 11, 38, 64)       0         \n",
            " 2D)                                                             \n",
            "                                                                 \n",
            " conv2d_2 (Conv2D)           (None, 10, 37, 128)       32896     \n",
            "                                                                 \n",
            " max_pooling2d_2 (MaxPooling  (None, 5, 18, 128)       0         \n",
            " 2D)                                                             \n",
            "                                                                 \n",
            " conv2d_3 (Conv2D)           (None, 3, 16, 128)        147584    \n",
            "                                                                 \n",
            " max_pooling2d_3 (MaxPooling  (None, 1, 8, 128)        0         \n",
            " 2D)                                                             \n",
            "                                                                 \n",
            " flatten (Flatten)           (None, 1024)              0         \n",
            "                                                                 \n",
            " dropout (Dropout)           (None, 1024)              0         \n",
            "                                                                 \n",
            " dense (Dense)               (None, 512)               524800    \n",
            "                                                                 \n",
            " dense_1 (Dense)             (None, 4)                 2052      \n",
            "                                                                 \n",
            "=================================================================\n",
            "Total params: 726,724\n",
            "Trainable params: 726,724\n",
            "Non-trainable params: 0\n",
            "_________________________________________________________________\n"
          ]
        }
      ],
      "source": [
        "conv_model = models.Sequential()\n",
        "conv_model.add(layers.Conv2D(32, (3, 3), activation='relu',\n",
        "                             input_shape=(height,width,3)))\n",
        "conv_model.add(layers.MaxPooling2D((2, 2)))\n",
        "conv_model.add(layers.Conv2D(64, (3, 3), activation='relu'))\n",
        "conv_model.add(layers.MaxPooling2D((2, 2)))\n",
        "conv_model.add(layers.Conv2D(128, (2, 2), activation='relu'))\n",
        "conv_model.add(layers.MaxPooling2D((2, 2)))\n",
        "conv_model.add(layers.Conv2D(128, (3, 3), activation='relu'))\n",
        "conv_model.add(layers.MaxPooling2D((2, 2)))\n",
        "conv_model.add(layers.Flatten())\n",
        "conv_model.add(layers.Dropout(0.5))\n",
        "conv_model.add(layers.Dense(512, activation='relu'))\n",
        "conv_model.add(layers.Dense(4, activation='softmax'))\n",
        "\n",
        "conv_model.summary()\n",
        "\n"
      ]
    },
    {
      "cell_type": "code",
      "execution_count": null,
      "metadata": {
        "id": "CYIH1T6mBRZG"
      },
      "outputs": [],
      "source": [
        "# #input and ouput shape must match shape of input and expected output shapes\n",
        "# conv_model = models.Sequential()\n",
        "# conv_model.add(layers.Conv2D(32, (3, 3), activation='relu',\n",
        "#                              input_shape=(height,width,3)))\n",
        "# conv_model.add(layers.MaxPooling2D((2, 2)))\n",
        "# conv_model.add(layers.Conv2D(64, (3, 3), activation='relu'))\n",
        "# conv_model.add(layers.MaxPooling2D((2, 2)))\n",
        "# conv_model.add(layers.Flatten())\n",
        "# conv_model.add(layers.Dropout(0.5))\n",
        "# conv_model.add(layers.Dense(512, activation='relu'))\n",
        "# #softmax normalizes the output to a probability distribution over predicted output classes\n",
        "# conv_model.add(layers.Dense(4, activation='softmax'))\n",
        "# conv_model.summary()"
      ]
    },
    {
      "cell_type": "code",
      "execution_count": null,
      "metadata": {
        "colab": {
          "base_uri": "https://localhost:8080/"
        },
        "id": "8iQN_wYOygUv",
        "outputId": "fef54cc3-9595-4f0f-f34e-42fb31c637b5"
      },
      "outputs": [
        {
          "output_type": "stream",
          "name": "stderr",
          "text": [
            "/usr/local/lib/python3.8/dist-packages/keras/optimizers/optimizer_v2/rmsprop.py:135: UserWarning: The `lr` argument is deprecated, use `learning_rate` instead.\n",
            "  super(RMSprop, self).__init__(name, **kwargs)\n"
          ]
        }
      ],
      "source": [
        "LEARNING_RATE = 1e-4\n",
        "conv_model.compile(loss='categorical_crossentropy',\n",
        "                   optimizer=optimizers.RMSprop(lr=LEARNING_RATE),\n",
        "                   metrics=['acc'])"
      ]
    },
    {
      "cell_type": "code",
      "source": [],
      "metadata": {
        "id": "P88qMte0BCjF"
      },
      "execution_count": null,
      "outputs": []
    },
    {
      "cell_type": "code",
      "execution_count": null,
      "metadata": {
        "colab": {
          "base_uri": "https://localhost:8080/"
        },
        "id": "-bg8QJiizYRa",
        "outputId": "18dce8f9-e8d0-41b3-b731-6ae337be6d67"
      },
      "outputs": [
        {
          "output_type": "stream",
          "name": "stdout",
          "text": [
            "Epoch 1/80\n",
            "261/261 [==============================] - 138s 522ms/step - loss: 0.6895 - acc: 0.7096 - val_loss: 0.6323 - val_acc: 0.7429\n",
            "Epoch 2/80\n",
            "261/261 [==============================] - 135s 519ms/step - loss: 0.6171 - acc: 0.7450 - val_loss: 0.6094 - val_acc: 0.7463\n",
            "Epoch 3/80\n",
            "261/261 [==============================] - 135s 519ms/step - loss: 0.6058 - acc: 0.7416 - val_loss: 0.6017 - val_acc: 0.7492\n",
            "Epoch 4/80\n",
            "261/261 [==============================] - 135s 517ms/step - loss: 0.5937 - acc: 0.7467 - val_loss: 0.6113 - val_acc: 0.7516\n",
            "Epoch 5/80\n",
            "261/261 [==============================] - 139s 533ms/step - loss: 0.5824 - acc: 0.7490 - val_loss: 0.5861 - val_acc: 0.7472\n",
            "Epoch 6/80\n",
            "261/261 [==============================] - 135s 517ms/step - loss: 0.5771 - acc: 0.7510 - val_loss: 0.5926 - val_acc: 0.7468\n",
            "Epoch 7/80\n",
            "261/261 [==============================] - 135s 518ms/step - loss: 0.5718 - acc: 0.7535 - val_loss: 0.5835 - val_acc: 0.7448\n",
            "Epoch 8/80\n",
            "261/261 [==============================] - 138s 530ms/step - loss: 0.5658 - acc: 0.7537 - val_loss: 0.5634 - val_acc: 0.7472\n",
            "Epoch 9/80\n",
            "261/261 [==============================] - 135s 517ms/step - loss: 0.5616 - acc: 0.7541 - val_loss: 0.5613 - val_acc: 0.7520\n",
            "Epoch 10/80\n",
            "261/261 [==============================] - 135s 518ms/step - loss: 0.5534 - acc: 0.7579 - val_loss: 0.5579 - val_acc: 0.7482\n",
            "Epoch 11/80\n",
            "261/261 [==============================] - 135s 518ms/step - loss: 0.5501 - acc: 0.7542 - val_loss: 0.5497 - val_acc: 0.7559\n",
            "Epoch 12/80\n",
            "261/261 [==============================] - 135s 518ms/step - loss: 0.5455 - acc: 0.7553 - val_loss: 0.5589 - val_acc: 0.7468\n",
            "Epoch 13/80\n",
            "261/261 [==============================] - 135s 517ms/step - loss: 0.5425 - acc: 0.7593 - val_loss: 0.5493 - val_acc: 0.7549\n",
            "Epoch 14/80\n",
            "261/261 [==============================] - 136s 521ms/step - loss: 0.5373 - acc: 0.7625 - val_loss: 0.5424 - val_acc: 0.7535\n",
            "Epoch 15/80\n",
            "261/261 [==============================] - 136s 520ms/step - loss: 0.5347 - acc: 0.7648 - val_loss: 0.5385 - val_acc: 0.7568\n",
            "Epoch 16/80\n",
            "261/261 [==============================] - 135s 518ms/step - loss: 0.5317 - acc: 0.7601 - val_loss: 0.5847 - val_acc: 0.7516\n",
            "Epoch 17/80\n",
            "261/261 [==============================] - 135s 519ms/step - loss: 0.5308 - acc: 0.7635 - val_loss: 0.6148 - val_acc: 0.7458\n",
            "Epoch 18/80\n",
            "261/261 [==============================] - 135s 519ms/step - loss: 0.5258 - acc: 0.7657 - val_loss: 0.5338 - val_acc: 0.7578\n",
            "Epoch 19/80\n",
            "261/261 [==============================] - 136s 520ms/step - loss: 0.5243 - acc: 0.7686 - val_loss: 0.5330 - val_acc: 0.7549\n",
            "Epoch 20/80\n",
            "261/261 [==============================] - 135s 518ms/step - loss: 0.5208 - acc: 0.7648 - val_loss: 0.5343 - val_acc: 0.7583\n",
            "Epoch 21/80\n",
            "261/261 [==============================] - 133s 508ms/step - loss: 0.5163 - acc: 0.7656 - val_loss: 0.5314 - val_acc: 0.7568\n",
            "Epoch 22/80\n",
            "261/261 [==============================] - 135s 517ms/step - loss: 0.5110 - acc: 0.7721 - val_loss: 0.5353 - val_acc: 0.7530\n",
            "Epoch 23/80\n",
            "261/261 [==============================] - 135s 517ms/step - loss: 0.5089 - acc: 0.7695 - val_loss: 0.5242 - val_acc: 0.7588\n",
            "Epoch 24/80\n",
            "261/261 [==============================] - 135s 516ms/step - loss: 0.5115 - acc: 0.7697 - val_loss: 0.5472 - val_acc: 0.7583\n",
            "Epoch 25/80\n",
            "261/261 [==============================] - 135s 517ms/step - loss: 0.5094 - acc: 0.7701 - val_loss: 0.5514 - val_acc: 0.7554\n",
            "Epoch 26/80\n",
            "261/261 [==============================] - 135s 518ms/step - loss: 0.5050 - acc: 0.7711 - val_loss: 0.5297 - val_acc: 0.7564\n",
            "Epoch 27/80\n",
            "261/261 [==============================] - 134s 513ms/step - loss: 0.5027 - acc: 0.7704 - val_loss: 0.5266 - val_acc: 0.7659\n",
            "Epoch 28/80\n",
            "261/261 [==============================] - 134s 513ms/step - loss: 0.4997 - acc: 0.7751 - val_loss: 0.5540 - val_acc: 0.7516\n",
            "Epoch 29/80\n",
            "261/261 [==============================] - 136s 521ms/step - loss: 0.4935 - acc: 0.7762 - val_loss: 0.5293 - val_acc: 0.7564\n",
            "Epoch 30/80\n",
            "261/261 [==============================] - 135s 519ms/step - loss: 0.4918 - acc: 0.7767 - val_loss: 0.5369 - val_acc: 0.7583\n",
            "Epoch 31/80\n",
            "261/261 [==============================] - 135s 518ms/step - loss: 0.4913 - acc: 0.7798 - val_loss: 0.5347 - val_acc: 0.7631\n",
            "Epoch 32/80\n",
            "261/261 [==============================] - 135s 518ms/step - loss: 0.4889 - acc: 0.7764 - val_loss: 0.5164 - val_acc: 0.7669\n",
            "Epoch 33/80\n",
            "261/261 [==============================] - 134s 514ms/step - loss: 0.4884 - acc: 0.7753 - val_loss: 0.5530 - val_acc: 0.7559\n",
            "Epoch 34/80\n",
            "261/261 [==============================] - 134s 512ms/step - loss: 0.4863 - acc: 0.7831 - val_loss: 0.5213 - val_acc: 0.7640\n",
            "Epoch 35/80\n",
            "261/261 [==============================] - 134s 512ms/step - loss: 0.4819 - acc: 0.7864 - val_loss: 0.5263 - val_acc: 0.7650\n",
            "Epoch 36/80\n",
            "261/261 [==============================] - 136s 519ms/step - loss: 0.4779 - acc: 0.7837 - val_loss: 0.5334 - val_acc: 0.7635\n",
            "Epoch 37/80\n",
            "261/261 [==============================] - 135s 517ms/step - loss: 0.4738 - acc: 0.7887 - val_loss: 0.5300 - val_acc: 0.7631\n",
            "Epoch 38/80\n",
            "261/261 [==============================] - 134s 515ms/step - loss: 0.4707 - acc: 0.7883 - val_loss: 0.5210 - val_acc: 0.7655\n",
            "Epoch 39/80\n",
            "261/261 [==============================] - 134s 515ms/step - loss: 0.4713 - acc: 0.7813 - val_loss: 0.5583 - val_acc: 0.7659\n",
            "Epoch 40/80\n",
            "261/261 [==============================] - 135s 516ms/step - loss: 0.4676 - acc: 0.7888 - val_loss: 0.5241 - val_acc: 0.7592\n",
            "Epoch 41/80\n",
            "261/261 [==============================] - 134s 514ms/step - loss: 0.4656 - acc: 0.7917 - val_loss: 0.5178 - val_acc: 0.7703\n",
            "Epoch 42/80\n",
            "261/261 [==============================] - 135s 516ms/step - loss: 0.4656 - acc: 0.7917 - val_loss: 0.5216 - val_acc: 0.7640\n",
            "Epoch 43/80\n",
            "261/261 [==============================] - 135s 517ms/step - loss: 0.4584 - acc: 0.7944 - val_loss: 0.5493 - val_acc: 0.7655\n",
            "Epoch 44/80\n",
            "261/261 [==============================] - 134s 513ms/step - loss: 0.4597 - acc: 0.7967 - val_loss: 0.5318 - val_acc: 0.7631\n",
            "Epoch 45/80\n",
            "261/261 [==============================] - 133s 508ms/step - loss: 0.4564 - acc: 0.7948 - val_loss: 0.5116 - val_acc: 0.7698\n",
            "Epoch 46/80\n",
            "261/261 [==============================] - 134s 515ms/step - loss: 0.4562 - acc: 0.7908 - val_loss: 0.5116 - val_acc: 0.7688\n",
            "Epoch 47/80\n",
            "261/261 [==============================] - 135s 516ms/step - loss: 0.4556 - acc: 0.7958 - val_loss: 0.5206 - val_acc: 0.7588\n",
            "Epoch 48/80\n",
            "261/261 [==============================] - 134s 513ms/step - loss: 0.4528 - acc: 0.7905 - val_loss: 0.5255 - val_acc: 0.7755\n",
            "Epoch 49/80\n",
            "261/261 [==============================] - 136s 519ms/step - loss: 0.4489 - acc: 0.8003 - val_loss: 0.5252 - val_acc: 0.7645\n",
            "Epoch 50/80\n",
            "261/261 [==============================] - 136s 520ms/step - loss: 0.4452 - acc: 0.7993 - val_loss: 0.5372 - val_acc: 0.7664\n",
            "Epoch 51/80\n",
            "261/261 [==============================] - 135s 519ms/step - loss: 0.4425 - acc: 0.8059 - val_loss: 0.5445 - val_acc: 0.7688\n",
            "Epoch 52/80\n",
            "261/261 [==============================] - 136s 520ms/step - loss: 0.4432 - acc: 0.7988 - val_loss: 0.5132 - val_acc: 0.7746\n",
            "Epoch 53/80\n",
            "261/261 [==============================] - 135s 518ms/step - loss: 0.4394 - acc: 0.8010 - val_loss: 0.5461 - val_acc: 0.7674\n",
            "Epoch 54/80\n",
            "261/261 [==============================] - 135s 516ms/step - loss: 0.4359 - acc: 0.8027 - val_loss: 0.5492 - val_acc: 0.7674\n",
            "Epoch 55/80\n",
            "261/261 [==============================] - 135s 517ms/step - loss: 0.4366 - acc: 0.8033 - val_loss: 0.5180 - val_acc: 0.7698\n",
            "Epoch 56/80\n",
            "261/261 [==============================] - 135s 517ms/step - loss: 0.4252 - acc: 0.8081 - val_loss: 0.5189 - val_acc: 0.7669\n",
            "Epoch 57/80\n",
            "261/261 [==============================] - 135s 518ms/step - loss: 0.4239 - acc: 0.8069 - val_loss: 0.5459 - val_acc: 0.7578\n",
            "Epoch 58/80\n",
            "261/261 [==============================] - 135s 517ms/step - loss: 0.4242 - acc: 0.8134 - val_loss: 0.5051 - val_acc: 0.7755\n",
            "Epoch 59/80\n",
            "261/261 [==============================] - 135s 519ms/step - loss: 0.4229 - acc: 0.8126 - val_loss: 0.5223 - val_acc: 0.7712\n",
            "Epoch 60/80\n",
            "261/261 [==============================] - 135s 516ms/step - loss: 0.4218 - acc: 0.8092 - val_loss: 0.5428 - val_acc: 0.7717\n",
            "Epoch 61/80\n",
            "261/261 [==============================] - 131s 501ms/step - loss: 0.4183 - acc: 0.8138 - val_loss: 0.5242 - val_acc: 0.7602\n",
            "Epoch 62/80\n",
            "261/261 [==============================] - 134s 513ms/step - loss: 0.4196 - acc: 0.8120 - val_loss: 0.5146 - val_acc: 0.7760\n",
            "Epoch 63/80\n",
            "261/261 [==============================] - 135s 518ms/step - loss: 0.4144 - acc: 0.8168 - val_loss: 0.5153 - val_acc: 0.7731\n",
            "Epoch 64/80\n",
            "261/261 [==============================] - 135s 516ms/step - loss: 0.4175 - acc: 0.8182 - val_loss: 0.5164 - val_acc: 0.7688\n",
            "Epoch 65/80\n",
            "261/261 [==============================] - 130s 498ms/step - loss: 0.4070 - acc: 0.8164 - val_loss: 0.5366 - val_acc: 0.7717\n",
            "Epoch 66/80\n",
            "261/261 [==============================] - 135s 516ms/step - loss: 0.4094 - acc: 0.8206 - val_loss: 0.5259 - val_acc: 0.7679\n",
            "Epoch 67/80\n",
            "261/261 [==============================] - 135s 517ms/step - loss: 0.4088 - acc: 0.8192 - val_loss: 0.5222 - val_acc: 0.7631\n",
            "Epoch 68/80\n",
            "261/261 [==============================] - 126s 483ms/step - loss: 0.4051 - acc: 0.8216 - val_loss: 0.5458 - val_acc: 0.7650\n",
            "Epoch 69/80\n",
            "261/261 [==============================] - 135s 518ms/step - loss: 0.4003 - acc: 0.8232 - val_loss: 0.5179 - val_acc: 0.7621\n",
            "Epoch 70/80\n",
            "261/261 [==============================] - 133s 509ms/step - loss: 0.3959 - acc: 0.8222 - val_loss: 0.6035 - val_acc: 0.7631\n",
            "Epoch 71/80\n",
            "261/261 [==============================] - 134s 510ms/step - loss: 0.3981 - acc: 0.8219 - val_loss: 0.5215 - val_acc: 0.7669\n",
            "Epoch 72/80\n",
            "261/261 [==============================] - 131s 503ms/step - loss: 0.3973 - acc: 0.8233 - val_loss: 0.5751 - val_acc: 0.7650\n",
            "Epoch 73/80\n",
            "261/261 [==============================] - 135s 516ms/step - loss: 0.3955 - acc: 0.8249 - val_loss: 0.5794 - val_acc: 0.7674\n",
            "Epoch 74/80\n",
            "261/261 [==============================] - 135s 516ms/step - loss: 0.3867 - acc: 0.8321 - val_loss: 0.5569 - val_acc: 0.7640\n",
            "Epoch 75/80\n",
            "261/261 [==============================] - 132s 505ms/step - loss: 0.3900 - acc: 0.8304 - val_loss: 0.6211 - val_acc: 0.7727\n",
            "Epoch 76/80\n",
            "261/261 [==============================] - 135s 519ms/step - loss: 0.3915 - acc: 0.8228 - val_loss: 0.5520 - val_acc: 0.7736\n",
            "Epoch 77/80\n",
            "261/261 [==============================] - 131s 503ms/step - loss: 0.3867 - acc: 0.8311 - val_loss: 0.5283 - val_acc: 0.7597\n",
            "Epoch 78/80\n",
            "261/261 [==============================] - 131s 502ms/step - loss: 0.3826 - acc: 0.8300 - val_loss: 0.5566 - val_acc: 0.7645\n",
            "Epoch 79/80\n",
            "261/261 [==============================] - 135s 516ms/step - loss: 0.3830 - acc: 0.8276 - val_loss: 0.5187 - val_acc: 0.7640\n",
            "Epoch 80/80\n",
            "261/261 [==============================] - 129s 494ms/step - loss: 0.3783 - acc: 0.8310 - val_loss: 0.5368 - val_acc: 0.7506\n"
          ]
        }
      ],
      "source": [
        "history_conv = conv_model.fit(inputSet, outputSet, \n",
        "                              validation_split=0.2, \n",
        "                              epochs=80, \n",
        "                              batch_size=32)\n"
      ]
    },
    {
      "cell_type": "code",
      "execution_count": null,
      "metadata": {
        "id": "af7jiScc1zDM"
      },
      "outputs": [],
      "source": []
    },
    {
      "cell_type": "code",
      "execution_count": null,
      "metadata": {
        "id": "zmK2aEvkzY4A",
        "colab": {
          "base_uri": "https://localhost:8080/",
          "height": 295
        },
        "outputId": "f2a3a3cb-ea01-4039-f8de-995d1396d493"
      },
      "outputs": [
        {
          "output_type": "display_data",
          "data": {
            "text/plain": [
              "<Figure size 432x288 with 1 Axes>"
            ],
            "image/png": "[encoded data removed]"
          },
          "metadata": {
            "needs_background": "light"
          }
        }
      ],
      "source": [
        "plt.plot(history_conv.history['loss'])\n",
        "plt.plot(history_conv.history['val_loss'])\n",
        "plt.title('model loss')\n",
        "plt.ylabel('loss')\n",
        "plt.xlabel('epoch')\n",
        "plt.legend(['train loss', 'val loss'], loc='upper left')\n",
        "plt.show()"
      ]
    },
    {
      "cell_type": "code",
      "execution_count": null,
      "metadata": {
        "id": "HVEfvvUb0USG",
        "colab": {
          "base_uri": "https://localhost:8080/",
          "height": 295
        },
        "outputId": "8828448a-03e7-46dd-cf93-28060ec0e659"
      },
      "outputs": [
        {
          "output_type": "display_data",
          "data": {
            "text/plain": [
              "<Figure size 432x288 with 1 Axes>"
            ],
            "image/png": "[encoded data removed]"
          },
          "metadata": {
            "needs_background": "light"
          }
        }
      ],
      "source": [
        "plt.plot(history_conv.history['acc'])\n",
        "plt.plot(history_conv.history['val_acc'])\n",
        "plt.title('model accuracy')\n",
        "plt.ylabel('accuracy (%)')\n",
        "plt.xlabel('epoch')\n",
        "plt.legend(['train accuracy', 'val accuracy'], loc='upper left')\n",
        "plt.show()"
      ]
    },
    {
      "cell_type": "code",
      "execution_count": null,
      "metadata": {
        "id": "oLbxxe2W0tqm"
      },
      "outputs": [],
      "source": [
        "conv_model.save(root_path + \"NN_8RALL_nostop.h5\")"
      ]
    }
  ],
  "metadata": {
    "colab": {
      "collapsed_sections": [
        "uX4LMtDV0swd"
      ],
      "provenance": []
    },
    "gpuClass": "standard",
    "kernelspec": {
      "display_name": "Python 3",
      "name": "python3"
    }
  },
  "nbformat": 4,
  "nbformat_minor": 0
}